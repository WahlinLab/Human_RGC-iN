{
 "cells": [
  {
   "cell_type": "markdown",
   "id": "7e48991c",
   "metadata": {},
   "source": [
    "# Integration of D14 RGC-iNs with Published Datasets"
   ]
  },
  {
   "cell_type": "code",
   "execution_count": null,
   "id": "8c78cf9d",
   "metadata": {},
   "outputs": [],
   "source": [
    "import scanpy as sc\n",
    "import scanorama as sr\n",
    "import pandas as pd\n",
    "import anndata as ad\n",
    "\n",
    "sc.settings.verbosity = 3 # hints "
   ]
  },
  {
   "cell_type": "markdown",
   "id": "1cee169b",
   "metadata": {},
   "source": [
    "### Data Collection"
   ]
  },
  {
   "cell_type": "code",
   "execution_count": null,
   "id": "8772b257",
   "metadata": {},
   "outputs": [],
   "source": [
    "### Read data into an AnnData objects (this step may take a few minutes the first time)\n",
    "\n",
    "# NAIP2 D14 RGC-iNs\n",
    "adata_14 = sc.read_10x_mtx(\n",
    "    './../../sc_data/d14/',\n",
    "    var_names='gene_symbols',\n",
    "    cache=True\n",
    ")\n",
    "\n",
    "# Other published datasets\n",
    "adata_gudiseva = sc.read_10x_mtx(\n",
    "    './../../sc_data/gudiseva_ipsc_rgcs',\n",
    "    var_names='gene_symbols',\n",
    "    cache=True\n",
    ") \n",
    "\n",
    "adata_lu = sc.read_10x_mtx(\n",
    "    './../../sc_data/lu_organoid_rgcs',\n",
    "    var_names='gene_symbols',\n",
    "    cache=True\n",
    ") \n",
    "\n",
    "adata_sridhar = sc.read_10x_mtx(\n",
    "    './../../sc_data/sridhar_fetal_rgcs',\n",
    "    var_names='gene_symbols',\n",
    "    cache=True\n",
    ") \n",
    "\n",
    "data = [adata_14, adata_gudiseva, adata_lu, adata_sridhar]\n",
    "\n",
    "for adata in data:\n",
    "    adata.var_names_make_unique()\n",
    "    display(adata)\n",
    "\n",
    "# Add 'sample' column in order to later distinguish cells from different timepoints\n",
    "adata_14.obs['sample'] = 'd14'\n",
    "adata_gudiseva.obs['sample'] = 'gudiseva'\n",
    "adata_lu.obs['sample'] = 'lu'\n",
    "adata_sridhar.obs['sample'] = 'sridhar'"
   ]
  },
  {
   "cell_type": "markdown",
   "id": "89098160",
   "metadata": {},
   "source": [
    "### Preprocessing"
   ]
  },
  {
   "cell_type": "code",
   "execution_count": null,
   "id": "917811a0",
   "metadata": {},
   "outputs": [],
   "source": [
    "# Preprocess each dataset separately\n",
    "for adata in data:\n",
    "    adata.var_names_make_unique()\n",
    "    \n",
    "    sc.pp.filter_cells(adata, min_genes=200)\n",
    "    sc.pp.filter_genes(adata, min_cells=3)\n",
    "\n",
    "    adata.var['mt'] = adata.var_names.str.startswith('MT-')  # annotate the group of mitochondrial genes as 'mt'\n",
    "\n",
    "    sc.pp.calculate_qc_metrics(adata, qc_vars=['mt'], percent_top=None, log1p=False, inplace=True)\n",
    "\n",
    "    sc.pl.violin(adata, ['n_genes_by_counts', 'total_counts', 'pct_counts_mt'],\n",
    "                 jitter=0.4, multi_panel=True)\n",
    "\n",
    "    sc.pl.scatter(adata, x='total_counts', y='pct_counts_mt')\n",
    "    sc.pl.scatter(adata, x='total_counts', y='n_genes_by_counts')"
   ]
  },
  {
   "cell_type": "code",
   "execution_count": null,
   "id": "c866e5d4",
   "metadata": {},
   "outputs": [],
   "source": [
    "### Wahlin D14 RGC-iNs\n",
    "# filter out cells with an abnormal number of total_counts and those with high mitochondrial gene presence\n",
    "adata_14 = adata_14[adata_14.obs.total_counts < 250000, :]\n",
    "adata_14 = adata_14[adata_14.obs.pct_counts_mt < 5, :]\n",
    "\n",
    "# normalize and logarthmize data\n",
    "sc.pp.normalize_total(adata_14, target_sum=1e4)\n",
    "sc.pp.log1p(adata_14)\n",
    "\n",
    "sc.pp.highly_variable_genes(adata_14, min_mean=0.0125, max_mean=3, min_disp=0.5)\n",
    "\n",
    "display(adata_14)\n",
    "\n",
    "### Gudiseva D40 iPSC-RGCs\n",
    "# filter out cells with an abnormal number of total_counts and those with high mitochondrial gene presence\n",
    "adata_gudiseva = adata_gudiseva[adata_gudiseva.obs.total_counts < 40000, :]\n",
    "adata_gudiseva = adata_gudiseva[adata_gudiseva.obs.pct_counts_mt < 5, :]\n",
    "\n",
    "# normalize and logarthmize data\n",
    "sc.pp.normalize_total(adata_gudiseva, target_sum=1e4)\n",
    "sc.pp.log1p(adata_gudiseva)\n",
    "\n",
    "sc.pp.highly_variable_genes(adata_gudiseva, min_mean=0.0125, max_mean=3, min_disp=0.5)\n",
    "\n",
    "display(adata_gudiseva)\n",
    "\n",
    "### Lu D45 Organoid\n",
    "# filter out cells with an abnormal number of total_counts and those with high mitochondrial gene presence\n",
    "adata_lu = adata_lu[adata_lu.obs.total_counts < 30000, :]\n",
    "adata_lu = adata_lu[adata_lu.obs.pct_counts_mt < 5, :]\n",
    "\n",
    "# normalize and logarthmize data\n",
    "sc.pp.normalize_total(adata_lu, target_sum=1e4)\n",
    "sc.pp.log1p(adata_lu)\n",
    "\n",
    "sc.pp.highly_variable_genes(adata_lu, min_mean=0.0125, max_mean=3, min_disp=0.5)\n",
    "\n",
    "display(adata_lu)\n",
    "\n",
    "\n",
    "### Sridhar D59 Fetal\n",
    "# filter out cells with an abnormal number of total_counts and those with high mitochondrial gene presence\n",
    "adata_sridhar = adata_sridhar[adata_sridhar.obs.total_counts < 10000, :]\n",
    "adata_sridhar = adata_sridhar[adata_sridhar.obs.pct_counts_mt < 5, :]\n",
    "\n",
    "# normalize and logarthmize data\n",
    "sc.pp.normalize_total(adata_sridhar, target_sum=1e4)\n",
    "sc.pp.log1p(adata_sridhar)\n",
    "\n",
    "sc.pp.highly_variable_genes(adata_sridhar, min_mean=0.0125, max_mean=3, min_disp=0.5)\n",
    "\n",
    "display(adata_sridhar)"
   ]
  },
  {
   "cell_type": "code",
   "execution_count": null,
   "id": "bddae83c",
   "metadata": {},
   "outputs": [],
   "source": [
    "# Concatenate each published dataset with D14 RGC-iNs\n",
    "\n",
    "adata_gudiseva = ad.concat([adata_gudiseva, adata_14])\n",
    "adata_sridhar = ad.concat([adata_sridhar, adata_14])\n",
    "adata_lu = ad.concat([adata_lu, adata_14])\n",
    "\n",
    "adatas = [adata_gudiseva, adata_sridhar, adata_lu]\n",
    "display(adata_gudiseva, adata_sridhar, adata_lu)"
   ]
  },
  {
   "cell_type": "code",
   "execution_count": null,
   "id": "9fc272cb",
   "metadata": {},
   "outputs": [],
   "source": [
    "# compute principle components, integrate data using scanorama, and finally batch correct using combat\n",
    "for adata in adatas:\n",
    "    sc.tl.pca(adata, svd_solver='arpack', use_highly_variable=False)\n",
    "    sc.pl.pca(adata)\n",
    "    sc.pl.pca_variance_ratio(adata, log=True)\n",
    "\n",
    "    sc.external.pp.scanorama_integrate(adata, key='sample')\n",
    "\n",
    "    sc.pp.combat(adata, key='sample')"
   ]
  },
  {
   "cell_type": "code",
   "execution_count": null,
   "id": "cb9f2f2c",
   "metadata": {},
   "outputs": [],
   "source": [
    "# neighborhood generation, louvain clustering, and UMAP dimensionality reduction\n",
    "for adata in adatas:\n",
    "    sc.pp.neighbors(adata, use_rep = 'X_scanorama')\n",
    "    sc.tl.umap(adata)\n",
    "    sc.tl.louvain(adata, resolution = 0.3)"
   ]
  },
  {
   "cell_type": "markdown",
   "id": "e4ed968f",
   "metadata": {},
   "source": [
    "### Gudiseva Integration"
   ]
  },
  {
   "cell_type": "code",
   "execution_count": null,
   "id": "03d9f8c6",
   "metadata": {},
   "outputs": [],
   "source": [
    "highlight_d14 = {\n",
    "    'gudiseva':'gray',\n",
    "    'd14':'darkblue'\n",
    "}\n",
    "\n",
    "# Plot UMAPs colored for louvain clusters and sample origin\n",
    "sc.pl.umap(adata_gudiseva, color = ['louvain'])\n",
    "sc.pl.umap(adata_gudiseva, color=['sample'], palette=highlight_d14)"
   ]
  },
  {
   "cell_type": "code",
   "execution_count": null,
   "id": "d5f97507",
   "metadata": {},
   "outputs": [],
   "source": [
    "# Remove non-integrated clusters to focus on integration areas\n",
    "remove = [0, 3, 4, 5]\n",
    "\n",
    "for clust in remove:\n",
    "    adata_gudiseva = adata_gudiseva[~adata_gudiseva.obs['louvain'].isin([str(clust)]),:]"
   ]
  },
  {
   "cell_type": "code",
   "execution_count": null,
   "id": "6075a8fc",
   "metadata": {},
   "outputs": [],
   "source": [
    "# Plot UMAPs of the filtered clusters showing sample origin and RGC marker expression\n",
    "sc.pl.umap(adata_gudiseva, color = 'sample', palette=highlight_d14, save='_d14_gudiseva_integration.pdf')\n",
    "sc.pl.umap(adata_gudiseva, color = ['GAP43'], cmap='Greens', vmax=1, vmin=0, save='_d14_gudiseva_integration_gap43.pdf')\n",
    "sc.pl.umap(adata_gudiseva, color = ['STMN2'], cmap='Greens', vmax=1, vmin=0, save='_d14_gudiseva_integration_stmn2.pdf')"
   ]
  },
  {
   "cell_type": "markdown",
   "id": "a4ce7427",
   "metadata": {},
   "source": [
    "### Lu Integration"
   ]
  },
  {
   "cell_type": "code",
   "execution_count": null,
   "id": "691d24eb",
   "metadata": {},
   "outputs": [],
   "source": [
    "highlight_d14 = {\n",
    "    'lu':'gray',\n",
    "    'd14':'darkblue'\n",
    "}\n",
    "\n",
    "# Plot UMAPs colored for louvain clusters and sample origin\n",
    "sc.pl.umap(adata_lu, color = ['louvain'])\n",
    "sc.pl.umap(adata_lu, color=['sample'], palette=highlight_d14)"
   ]
  },
  {
   "cell_type": "code",
   "execution_count": null,
   "id": "b24f42fb",
   "metadata": {},
   "outputs": [],
   "source": [
    "# Remove non-integrated clusters to focus on integration areas\n",
    "remove = [0, 2, 3, 4, 6, 7]\n",
    "\n",
    "for clust in remove:\n",
    "    adata_lu = adata_lu[~adata_lu.obs['louvain'].isin([str(clust)]),:]"
   ]
  },
  {
   "cell_type": "code",
   "execution_count": null,
   "id": "092c9220",
   "metadata": {},
   "outputs": [],
   "source": [
    "# Plot UMAPs of the filtered clusters showing sample origin and RGC marker expression\n",
    "sc.pl.umap(adata_lu, color = 'sample', palette=highlight_d14, save='_d14_lu_integration.pdf')\n",
    "sc.pl.umap(adata_lu, color = ['GAP43'], cmap='Greens', vmax=1, vmin=0, save='_d14_lu_integration_gap43.pdf')\n",
    "sc.pl.umap(adata_lu, color = ['STMN2'], cmap='Greens', vmax=1, vmin=0, save='_d14_lu_integration_stmn2.pdf')"
   ]
  },
  {
   "cell_type": "markdown",
   "id": "18036dc7",
   "metadata": {},
   "source": [
    "### Sridhar Integration"
   ]
  },
  {
   "cell_type": "code",
   "execution_count": null,
   "id": "0b0d0240",
   "metadata": {},
   "outputs": [],
   "source": [
    "highlight_d14 = {\n",
    "    'sridhar':'gray',\n",
    "    'd14':'darkblue'\n",
    "}\n",
    "\n",
    "# Plot UMAPs colored for louvain clusters and sample origin\n",
    "sc.pl.umap(adata_sridhar, color = ['louvain'])\n",
    "sc.pl.umap(adata_sridhar, color=['sample'])"
   ]
  },
  {
   "cell_type": "code",
   "execution_count": null,
   "id": "2e403c38",
   "metadata": {},
   "outputs": [],
   "source": [
    "# Remove non-integrated clusters to focus on integration areas\n",
    "remove = [1, 2, 3, 4, 5, 6, 7, 8, 9, 10]\n",
    "\n",
    "for clust in remove:\n",
    "    adata_sridhar = adata_sridhar[~adata_sridhar.obs['louvain'].isin([str(clust)]),:]"
   ]
  },
  {
   "cell_type": "code",
   "execution_count": null,
   "id": "441caf83",
   "metadata": {},
   "outputs": [],
   "source": [
    "sc.pl.umap(adata_sridhar, color = 'sample', palette=highlight_d14, save='_d14_sridhar_integration.pdf')\n",
    "sc.pl.umap(adata_sridhar, color = ['GAP43'], palette=highlight_d14, cmap='Greens', save='_d14_sridhar_integration_gap43.pdf')\n",
    "sc.pl.umap(adata_sridhar, color = ['STMN2'], palette=highlight_d14, cmap='Greens', save='_d14_sridhar_integration_stmn2.pdf')"
   ]
  }
 ],
 "metadata": {
  "kernelspec": {
   "display_name": "Python 3 (ipykernel)",
   "language": "python",
   "name": "python3"
  },
  "language_info": {
   "codemirror_mode": {
    "name": "ipython",
    "version": 3
   },
   "file_extension": ".py",
   "mimetype": "text/x-python",
   "name": "python",
   "nbconvert_exporter": "python",
   "pygments_lexer": "ipython3",
   "version": "3.10.11"
  }
 },
 "nbformat": 4,
 "nbformat_minor": 5
}
