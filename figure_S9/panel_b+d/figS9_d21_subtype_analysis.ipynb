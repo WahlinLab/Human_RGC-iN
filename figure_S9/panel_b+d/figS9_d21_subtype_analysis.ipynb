{
 "cells": [
  {
   "cell_type": "markdown",
   "id": "5791c97d",
   "metadata": {},
   "source": [
    "# Single Cell RGC Subtype Marker Expression Analysis in Day 21 RGC-iNs"
   ]
  },
  {
   "cell_type": "code",
   "execution_count": null,
   "id": "aa4bc757",
   "metadata": {},
   "outputs": [],
   "source": [
    "import scanpy as sc\n",
    "import matplotlib.pyplot as plt\n",
    "\n",
    "sc.settings.verbosity = 3 # hints "
   ]
  },
  {
   "cell_type": "markdown",
   "id": "e6bdb989",
   "metadata": {},
   "source": [
    "### Data Collection"
   ]
  },
  {
   "cell_type": "code",
   "execution_count": null,
   "id": "bfa218f9",
   "metadata": {},
   "outputs": [],
   "source": [
    "# Read data into an AnnData object (this step may take a few minutes the first time)\n",
    "adata = sc.read_10x_mtx(\n",
    "    './../../sc_data/d21/',\n",
    "    var_names='gene_symbols',\n",
    "    cache=True\n",
    ")\n",
    "\n",
    "adata.var_names_make_unique()\n",
    "display(adata)"
   ]
  },
  {
   "cell_type": "markdown",
   "id": "06718129",
   "metadata": {},
   "source": [
    "### Preprocessing"
   ]
  },
  {
   "cell_type": "code",
   "execution_count": null,
   "id": "03a61783",
   "metadata": {},
   "outputs": [],
   "source": [
    "sc.pp.filter_cells(adata, min_genes=200)\n",
    "sc.pp.filter_genes(adata, min_cells=3)\n",
    "\n",
    "# annotate the group of mitochondrial genes as 'mt' for later removal\n",
    "adata.var['mt'] = adata.var_names.str.startswith('MT-')  # annotate the group of mitochondrial genes as 'mt'\n",
    "\n",
    "# generate plots to assess cell/transcript quality\n",
    "sc.pp.calculate_qc_metrics(adata, qc_vars=['mt'], percent_top=None, log1p=False, inplace=True)\n",
    "sc.pl.violin(adata, ['n_genes_by_counts', 'total_counts', 'pct_counts_mt'],\n",
    "             jitter=0.4, multi_panel=True)\n",
    "sc.pl.scatter(adata, x='total_counts', y='pct_counts_mt')\n",
    "sc.pl.scatter(adata, x='total_counts', y='n_genes_by_counts')"
   ]
  },
  {
   "cell_type": "code",
   "execution_count": null,
   "id": "94d7a2d2",
   "metadata": {},
   "outputs": [],
   "source": [
    "# filter out cells with an abnormal number of total_counts and those with high mitochondrial gene presence\n",
    "adata = adata[adata.obs.total_counts < 150000, :]\n",
    "adata = adata[adata.obs.pct_counts_mt < 5, :]\n",
    "\n",
    "# normalize and logarthmize data\n",
    "sc.pp.normalize_total(adata, target_sum=1e4)\n",
    "sc.pp.log1p(adata)\n",
    "\n",
    "display(adata)"
   ]
  },
  {
   "cell_type": "markdown",
   "id": "aa026d87",
   "metadata": {},
   "source": [
    "### Clustering and Dimensionality Reduction"
   ]
  },
  {
   "cell_type": "code",
   "execution_count": null,
   "id": "3b045543",
   "metadata": {},
   "outputs": [],
   "source": [
    "sc.tl.pca(adata, svd_solver='arpack', use_highly_variable=False)\n",
    "sc.pl.pca(adata)\n",
    "sc.pl.pca_variance_ratio(adata, log=True)"
   ]
  },
  {
   "cell_type": "code",
   "execution_count": null,
   "id": "c71f2982",
   "metadata": {},
   "outputs": [],
   "source": [
    "sc.pp.neighbors(adata)\n",
    "sc.tl.louvain(adata)\n",
    "sc.tl.umap(adata)"
   ]
  },
  {
   "cell_type": "markdown",
   "id": "55147cf1",
   "metadata": {},
   "source": [
    "### UMAP Visualization"
   ]
  },
  {
   "cell_type": "code",
   "execution_count": null,
   "id": "1b28b763",
   "metadata": {},
   "outputs": [],
   "source": [
    "sc.pl.umap(adata, color=['louvain'], legend_loc='on data', save='d21_louvain.pdf')"
   ]
  },
  {
   "cell_type": "markdown",
   "id": "f038a607",
   "metadata": {},
   "source": [
    "### Subtype Marker Expression Analysis"
   ]
  },
  {
   "cell_type": "code",
   "execution_count": null,
   "id": "93857c42",
   "metadata": {},
   "outputs": [],
   "source": [
    "# Assign alpha, ds, and ip RGC subtype markers\n",
    "subtypes = {\n",
    "    'alpha':['SPP1', 'PIGO', 'RPP14', 'PANK1', 'CALB2', 'GAL', 'CRH'],\n",
    "    'DS':['DCX', 'CDH6', 'JAM2', 'FSTL4', 'GSN', 'LGI1', 'MMP17', 'COL25A1'],\n",
    "    'ip':['OPN4']\n",
    "}\n",
    "\n",
    "sc.pl.dotplot(adata,subtypes, groupby='louvain',\n",
    "                vmax=1, mean_only_expressed=True, dot_max=1, swap_axes=True,\n",
    "                title='RGC Subtype Markers',\n",
    "                save='d21_subtype_dotplot.pdf'\n",
    ")"
   ]
  },
  {
   "cell_type": "code",
   "execution_count": null,
   "id": "aeaf1d86",
   "metadata": {},
   "outputs": [],
   "source": [
    "# Assign Sucseptible/Resiliant RGC subtype markers\n",
    "sus_res = {\n",
    "    'Susceptible':[\n",
    "        'GABRA2',\n",
    "        'CARTPT',\n",
    "        'TFAP2D',\n",
    "        'MGLL',\n",
    "        'MYO1B',\n",
    "        'CRHBP',\n",
    "        'HPCAL1',\n",
    "        'VSTM2B',\n",
    "        'TAC1',\n",
    "        'EVC2',\n",
    "        'NEUROD2',\n",
    "        'PENK',\n",
    "        'PMP22',\n",
    "        'LMO1'\n",
    "    ],\n",
    "    'Resilient':[\n",
    "        'GLDN',\n",
    "        'CHL1',\n",
    "        'QPCT',\n",
    "        'TBX20',\n",
    "        'DGKG',\n",
    "        'TIMP2',\n",
    "        'IFITM10',\n",
    "        'EGR1',\n",
    "        'EOMES',\n",
    "        'JUNB',\n",
    "        'IGFBP2',\n",
    "        'OSTF1',\n",
    "        'FGF1',\n",
    "        'SEMA5A',\n",
    "        'ESRRG',\n",
    "        'KBTBD11',\n",
    "        'RAMP1',\n",
    "        'PRKCQ',\n",
    "        'CTXN3',\n",
    "        'NDNF',\n",
    "        'MAN1A1',\n",
    "        'SDK2',\n",
    "        'PRPH',\n",
    "        'SDK1',\n",
    "        'IGF1',\n",
    "        'IFI27'\n",
    "    ]\n",
    "}\n",
    "\n",
    "sc.pl.dotplot(adata, sus_res, groupby='louvain',\n",
    "                vmax=1, mean_only_expressed=True, dot_max=0.4,\n",
    "                title='Susceptible/Resilient Markers',\n",
    "                save='d21_susceptible_resiliant.pdf',\n",
    ")"
   ]
  },
  {
   "cell_type": "markdown",
   "id": "9f85ce00",
   "metadata": {},
   "source": [
    "### Neurotrphic Factor Receptor Expression Analysis"
   ]
  },
  {
   "cell_type": "code",
   "execution_count": null,
   "id": "1bf5d980",
   "metadata": {},
   "outputs": [],
   "source": [
    "# List of Neurotrophic Factor receptors we want to explore\n",
    "nf_receptors = ['NTRK1', 'NTRK2', 'NTRK3', 'GFRA1', 'NGFR', 'CNTFR']\n",
    "\n",
    "sc.pl.dotplot(adata, nf_receptors, groupby='louvain',\n",
    "                vmax=1, mean_only_expressed=True, dot_max=0.6,\n",
    "                title='Neurotrophic Receptor Markers',\n",
    "                save='d21_neurotrophic_markers.pdf'\n",
    ")"
   ]
  },
  {
   "cell_type": "markdown",
   "id": "9dcd039b",
   "metadata": {},
   "source": [
    "Written by Manan Chopra (m1chopra@ucsd.edu) @ Wahlin Lab  \n",
    "Last updated on May 22, 2023"
   ]
  }
 ],
 "metadata": {
  "kernelspec": {
   "display_name": "Python 3 (ipykernel)",
   "language": "python",
   "name": "python3"
  },
  "language_info": {
   "codemirror_mode": {
    "name": "ipython",
    "version": 3
   },
   "file_extension": ".py",
   "mimetype": "text/x-python",
   "name": "python",
   "nbconvert_exporter": "python",
   "pygments_lexer": "ipython3",
   "version": "3.10.11"
  }
 },
 "nbformat": 4,
 "nbformat_minor": 5
}
