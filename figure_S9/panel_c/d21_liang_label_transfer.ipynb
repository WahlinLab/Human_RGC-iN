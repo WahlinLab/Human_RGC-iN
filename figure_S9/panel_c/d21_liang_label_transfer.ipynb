{
 "cells": [
  {
   "cell_type": "markdown",
   "id": "aa56664d",
   "metadata": {},
   "source": [
    "# Semi-Supervised Label Transfer of RGC Subtype Annotations from Liang et. al. 2023 to Day 21 RGC-iNs"
   ]
  },
  {
   "cell_type": "code",
   "execution_count": null,
   "id": "4e84d2a9",
   "metadata": {},
   "outputs": [],
   "source": [
    "import scanpy as sc\n",
    "import seaborn as sns\n",
    "import matplotlib.pyplot as plt\n",
    "import scvi\n",
    "import anndata as ad\n",
    "\n",
    "sc.settings.verbosity = 3 # hints"
   ]
  },
  {
   "cell_type": "markdown",
   "id": "5f737080",
   "metadata": {},
   "source": [
    "### Data Collection"
   ]
  },
  {
   "cell_type": "code",
   "execution_count": null,
   "id": "1728ed12",
   "metadata": {},
   "outputs": [],
   "source": [
    "### Read data into an AnnData object (this step may take a few minutes the first time)\n",
    "\n",
    "# RGC subset obtained from\n",
    "# https://cellxgene.cziscience.com/collections/af893e86-8e9f-41f1-a474-ef05359b1fb7\n",
    "adata_liang = ad.read_h5ad('./../../sc_data/liang_adult_rgcs/local.h5ad')\n",
    "\n",
    "# NAIP2 RGC-iNs\n",
    "adata_21 = sc.read_10x_mtx(\n",
    "    './../../sc_data/d21/',\n",
    "    var_names='gene_symbols',\n",
    "    cache=True\n",
    ")\n",
    "\n",
    "adata_liang.var_names_make_unique()\n",
    "adata_21.var_names_make_unique()\n",
    "display(adata_21, adata_liang)"
   ]
  },
  {
   "cell_type": "code",
   "execution_count": null,
   "id": "2731480a",
   "metadata": {},
   "outputs": [],
   "source": [
    "# Add 'sample' column in order to later distinguish cells from different experiments\n",
    "adata_liang.obs['sample'] = 'liang'\n",
    "adata_21.obs['sample'] = 'd21'"
   ]
  },
  {
   "cell_type": "markdown",
   "id": "c085b6ee",
   "metadata": {},
   "source": [
    "### Preprocessing of Day 21 RGC-iN Dataset"
   ]
  },
  {
   "cell_type": "code",
   "execution_count": null,
   "id": "ad9cf0af",
   "metadata": {},
   "outputs": [],
   "source": [
    "sc.pp.filter_cells(adata_21, min_genes=800)\n",
    "sc.pp.filter_genes(adata_21, min_cells=5)\n",
    "\n",
    "# annotate the group of mitochondrial genes as 'mt' for later removal\n",
    "adata_21.var['mt'] = adata_21.var_names.str.startswith('MT-')  # annotate the group of mitochondrial genes as 'mt'\n",
    "\n",
    "# generate plots to assess cell/transcript quality\n",
    "sc.pp.calculate_qc_metrics(adata_21, qc_vars=['mt'], percent_top=None, log1p=False, inplace=True)\n",
    "sc.pl.violin(adata_21, ['n_genes_by_counts', 'total_counts', 'pct_counts_mt'],\n",
    "             jitter=0.4, multi_panel=True)\n",
    "sc.pl.scatter(adata_21, x='total_counts', y='pct_counts_mt')\n",
    "sc.pl.scatter(adata_21, x='total_counts', y='n_genes_by_counts')"
   ]
  },
  {
   "cell_type": "code",
   "execution_count": null,
   "id": "1d6f6e88",
   "metadata": {},
   "outputs": [],
   "source": [
    "# filter out cells with an abnormal number of total_counts and those with high mitochondrial gene presence\n",
    "adata_21 = adata_21[adata_21.obs.total_counts < 150000, :]\n",
    "adata_21 = adata_21[adata_21.obs.pct_counts_mt < 5, :]\n",
    "\n",
    "# normalize and logarthmize data\n",
    "sc.pp.normalize_total(adata_21, target_sum=1e4)\n",
    "sc.pp.log1p(adata_21)\n",
    "\n",
    "display(adata_21)"
   ]
  },
  {
   "cell_type": "code",
   "execution_count": null,
   "id": "44896e3e",
   "metadata": {},
   "outputs": [],
   "source": [
    "# add 'author_cell_type' column to match Liang dataset\n",
    "adata_21.obs['author_cell_type'] = 'unknown'\n",
    "adata_21.obs"
   ]
  },
  {
   "cell_type": "markdown",
   "id": "04a12d33",
   "metadata": {},
   "source": [
    "### Preprocessing of Combined Liang et. al. 2023 / Day 21 RGC-iN Dataset"
   ]
  },
  {
   "cell_type": "code",
   "execution_count": null,
   "id": "80a9fee8",
   "metadata": {},
   "outputs": [],
   "source": [
    "# concatenate Day 21 NAIP2 data and Liang data into one dataframe\n",
    "adata = ad.concat([adata_liang, adata_21])\n",
    "\n",
    "# normalize and logarthmize the concatenated dataframe\n",
    "adata.layers['counts'] = adata.X.copy()\n",
    "sc.pp.normalize_total(adata, target_sum=1e4)\n",
    "sc.pp.log1p(adata)\n",
    "adata.raw = adata\n",
    "\n",
    "# use only highly variable genes\n",
    "sc.pp.highly_variable_genes(adata, flavor='seurat_v3', n_top_genes=2000, layer='counts', batch_key='sample', subset=True)\n",
    "\n",
    "display(adata)"
   ]
  },
  {
   "cell_type": "markdown",
   "id": "f5da2f67",
   "metadata": {},
   "source": [
    "### Label Transfer"
   ]
  },
  {
   "cell_type": "code",
   "execution_count": null,
   "id": "44709ea8",
   "metadata": {},
   "outputs": [],
   "source": [
    "# setup and train a scvi model based on our concatenated data (can take some time, especially without a GPU)\n",
    "scvi.model.SCVI.setup_anndata(adata, layer = 'counts', batch_key='sample')\n",
    "vae = scvi.model.SCVI(adata)\n",
    "vae.train()"
   ]
  },
  {
   "cell_type": "code",
   "execution_count": null,
   "id": "aa47af49",
   "metadata": {},
   "outputs": [],
   "source": [
    "# perform label transfer (can take some time, especially without a GPU)\n",
    "lvae = scvi.model.SCANVI.from_scvi_model(vae, adata=adata, unlabeled_category='unknown', labels_key='author_cell_type')\n",
    "lvae.train(max_epochs=20, n_samples_per_label=100)"
   ]
  },
  {
   "cell_type": "code",
   "execution_count": null,
   "id": "f14599de",
   "metadata": {},
   "outputs": [],
   "source": [
    "# add a 'predicted' column to our dataframe denoting the label transfer annotations\n",
    "adata.obs['predicted'] = lvae.predict(adata)\n",
    "adata.obs"
   ]
  },
  {
   "cell_type": "code",
   "execution_count": null,
   "id": "60752c52",
   "metadata": {},
   "outputs": [],
   "source": [
    "# extract the Day 21 samples from our concatenated dataframe (these will have predicted labels)\n",
    "adata_21_subset = adata[adata.obs[\"sample\"] == \"d21\"]\n",
    "\n",
    "# create a dictionary mapping each Day 21 barcode (each cell) to its predicted cell type\n",
    "cell_mapper = dict(zip(adata_21_subset.obs.index, adata_21_subset.obs.predicted))\n",
    "\n",
    "# use dictionary to map predicted cell types back onto the original Day 21 dataframe\n",
    "# this dataframe was never normalized with the Liang data\n",
    "adata_21.obs['predicted_cell_type'] = adata_21.obs.index.map(cell_mapper)\n",
    "adata_21.obs"
   ]
  },
  {
   "cell_type": "markdown",
   "id": "94e0e958",
   "metadata": {},
   "source": [
    "### Clustering and Dimensionality Reduction of Day 21 RGC-iNs with Transferred Labels"
   ]
  },
  {
   "cell_type": "code",
   "execution_count": null,
   "id": "a959c414",
   "metadata": {},
   "outputs": [],
   "source": [
    "# begin by subsetting dataframe on top 2000 highly variable genes\n",
    "adata_21.layers[\"counts\"] = adata_21.X.copy()\n",
    "sc.pp.highly_variable_genes(adata_21, flavor='seurat_v3', n_top_genes=2000, subset = True, layer='counts')"
   ]
  },
  {
   "cell_type": "code",
   "execution_count": null,
   "id": "8b0fffa2",
   "metadata": {},
   "outputs": [],
   "source": [
    "sc.tl.pca(adata_21, svd_solver='arpack', use_highly_variable=False)\n",
    "sc.pl.pca(adata_21)\n",
    "sc.pl.pca_variance_ratio(adata_21, log=True)"
   ]
  },
  {
   "cell_type": "code",
   "execution_count": null,
   "id": "49d58ec6",
   "metadata": {},
   "outputs": [],
   "source": [
    "sc.pp.neighbors(adata_21)\n",
    "sc.tl.louvain(adata_21)\n",
    "sc.tl.umap(adata_21)"
   ]
  },
  {
   "cell_type": "markdown",
   "id": "30c539f2",
   "metadata": {},
   "source": [
    "### UMAP Visualization of All Datasets"
   ]
  },
  {
   "cell_type": "code",
   "execution_count": null,
   "id": "4c125a07",
   "metadata": {},
   "outputs": [],
   "source": [
    "sc.pl.umap(adata_21, color='louvain')\n",
    "sc.pl.umap(adata_21, color='predicted_cell_type')"
   ]
  },
  {
   "cell_type": "code",
   "execution_count": null,
   "id": "ff754d1c",
   "metadata": {
    "scrolled": true
   },
   "outputs": [],
   "source": [
    "### Condense predicted cell types (ON-MGC + OFF-MGS => MGC, etc.)\n",
    "\n",
    "MGC = list(adata_21.obs['predicted_cell_type'])\n",
    "for i, label in enumerate(MGC):\n",
    "    MGC[i] = 'True' if 'MGC' in label else 'False'\n",
    "    \n",
    "print(f'MGC percentage is {MGC.count(\"True\")/len(MGC)}')\n",
    "\n",
    "PGC = list(adata_21.obs['predicted_cell_type'])\n",
    "for i, label in enumerate(PGC):\n",
    "    PGC[i] = 'True' if 'PGC' in label else 'False'\n",
    "    \n",
    "print(f'PGC percentage is {PGC.count(\"True\")/len(PGC)}')\n",
    "\n",
    "OPN = list(adata_21.obs['predicted_cell_type'])\n",
    "for i, label in enumerate(OPN):\n",
    "    OPN[i] = 'True' if 'OPN' in label else 'False'\n",
    "    \n",
    "print(f'OPN percentage is {OPN.count(\"True\")/len(OPN)}')\n",
    "\n",
    "UNCLASSIFIED = list(adata_21.obs['predicted_cell_type'])\n",
    "for i, label in enumerate(UNCLASSIFIED):\n",
    "    if label == 'RGC6' or label == 'RGC7' or label == 'RGC8':\n",
    "        UNCLASSIFIED[i] = 'True'\n",
    "    else:\n",
    "        UNCLASSIFIED[i] = 'False'\n",
    "    \n",
    "print(f'UNCLASSIFIED percentage is {UNCLASSIFIED.count(\"True\")/len(UNCLASSIFIED)}')\n",
    "\n",
    "# Calculate population percentages of different cell types and plot on a pie chart\n",
    "print(f'Total: {MGC.count(\"True\")/len(MGC) + PGC.count(\"True\")/len(PGC) + OPN.count(\"True\")/len(OPN) + UNCLASSIFIED.count(\"True\")/len(UNCLASSIFIED)}')\n",
    "pie_val = [MGC.count(\"True\")/len(MGC), PGC.count(\"True\")/len(PGC), OPN.count(\"True\")/len(OPN), UNCLASSIFIED.count(\"True\")/len(UNCLASSIFIED)]\n",
    "pie_lab = ['MGCs', 'PGCs', 'ipRGCs', 'Uncategorized RGCs']\n",
    "plt.pie(pie_val, labels = pie_lab, colors=colors, autopct='%.0f%%')\n",
    "plt.savefig('figures/pie.pdf', dpi=400)\n",
    "\n",
    "COMBINED = list(adata_21.obs['predicted_cell_type'])\n",
    "for i, label in enumerate(COMBINED):\n",
    "    if 'MGC' in label:\n",
    "        COMBINED[i] = 'MGC'\n",
    "    elif 'PGC' in label:\n",
    "        COMBINED[i] = 'PGC'\n",
    "    elif 'OPN' in label:\n",
    "        COMBINED[i] = 'OPN'\n",
    "    else:\n",
    "        COMBINED[i] = 'UNCATEGORIZED'\n",
    "\n",
    "adata_21.obs['MGC'] = MGC\n",
    "adata_21.obs['PGC'] = PGC\n",
    "adata_21.obs['OPN'] = OPN\n",
    "adata_21.obs['UNCLASSIFIED'] = UNCLASSIFIED\n",
    "adata_21.obs['condensed_cell_types'] = COMBINED"
   ]
  },
  {
   "cell_type": "code",
   "execution_count": null,
   "id": "9bf7d507",
   "metadata": {},
   "outputs": [],
   "source": [
    "pallette = {\n",
    "    'True':'darkblue',\n",
    "    'False':'lightgray'\n",
    "}\n",
    "\n",
    "colors = sns.color_palette('deep')[0:4]\n",
    "\n",
    "sc.pl.umap(adata_21, color='louvain')\n",
    "sc.pl.umap(adata_21, color='condensed_cell_types', palette=colors, save='_d21_subtypes.pdf')\n",
    "sc.pl.umap(adata_21, color='MGC', palette=pallette)\n",
    "sc.pl.umap(adata_21, color='PGC', palette=pallette)\n",
    "sc.pl.umap(adata_21, color='OPN', palette=pallette)\n",
    "sc.pl.umap(adata_21, color='UNCLASSIFIED', palette=pallette)"
   ]
  },
  {
   "cell_type": "code",
   "execution_count": null,
   "id": "efd194fa",
   "metadata": {},
   "outputs": [],
   "source": [
    "# Visualize Liang et. al. 2023 data with their own subtype annotations\n",
    "sc.pl.umap(adata_liang, color=['author_cell_type'], legend_loc='on data', save='_liang_subtypes.pdf')"
   ]
  },
  {
   "cell_type": "markdown",
   "id": "0fdedff5",
   "metadata": {},
   "source": [
    "Written by Manan Chopra (m1chopra@ucsd.edu) @ Wahlin Lab  \n",
    "Last updated 5/26/2023"
   ]
  }
 ],
 "metadata": {
  "kernelspec": {
   "display_name": "Python 3 (ipykernel)",
   "language": "python",
   "name": "python3"
  },
  "language_info": {
   "codemirror_mode": {
    "name": "ipython",
    "version": 3
   },
   "file_extension": ".py",
   "mimetype": "text/x-python",
   "name": "python",
   "nbconvert_exporter": "python",
   "pygments_lexer": "ipython3",
   "version": "3.10.11"
  }
 },
 "nbformat": 4,
 "nbformat_minor": 5
}
