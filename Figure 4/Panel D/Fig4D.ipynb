{
 "cells": [
  {
   "cell_type": "markdown",
   "metadata": {},
   "source": [
    "### Figure 4D Heatmap Generator\n",
    "- Reads in data from file specified by `INPUT_CSV` and outputs heatmap to destination specified by `OUTPUT_PATH`\n",
    "- `FIG_SIZE` determines dimension of final plot width, height in inches\n",
    "- If `FILTER_CPM` is set to true, genes without at least one expression point >= `CPM_CUTOFF` will be filtered out of the final result\n",
    "- If `RAW_COUNT` is set to true, heatmap will plot raw data values on an axis from 0 to `V_MAX` instead of normalized counts\n",
    "- Further customization can be achieved by changing parameters for the `sns.clustermap` function according to the [official Seaborn docs](https://seaborn.pydata.org/generated/seaborn.clustermap.html)"
   ]
  },
  {
   "cell_type": "code",
   "execution_count": null,
   "metadata": {},
   "outputs": [],
   "source": [
    "import seaborn as sns\n",
    "import matplotlib.pyplot as plt\n",
    "import pandas as pd\n",
    "import numpy as np\n",
    "\n",
    "INPUT_CSV = \"raw/top500_genes.csv\"\n",
    "OUTPUT_PATH = \"out/top500_hm.pdf\"\n",
    "\n",
    "FIG_SIZE = [10, 10] \n",
    "\n",
    "FILTER_CPM = True # set to true to remove certain genes based on CPM\n",
    "CPM_CUTOFF = 100\n",
    "\n",
    "RAW_COUNT = False\n",
    "V_MAX = 15000 # only used when RAW_COUNT = True"
   ]
  },
  {
   "cell_type": "code",
   "execution_count": null,
   "metadata": {},
   "outputs": [],
   "source": [
    "df = pd.read_csv(INPUT_CSV)\n",
    "df.set_index('Gene', inplace=True)\n",
    "\n",
    "if (FILTER_CPM):\n",
    "    df = df.loc[(df['NAIP2C1'] >= CPM_CUTOFF) | (df['NEUROG2'] >= CPM_CUTOFF) | (df['NA'] >= CPM_CUTOFF) | (df['PSC'] >= CPM_CUTOFF) | (df['NAIP2'] >= CPM_CUTOFF) | (df['CTL'] >= CPM_CUTOFF)]\n",
    "\n",
    "display(df)\n"
   ]
  },
  {
   "cell_type": "code",
   "execution_count": null,
   "metadata": {},
   "outputs": [],
   "source": [
    "    \n",
    "if (RAW_COUNT):\n",
    "    cmap = sns.cubehelix_palette(start=.5, rot=-.75, as_cmap=True) # linear color scheme (better for raw counts)\n",
    "    heatmap = sns.clustermap(data=df,\n",
    "               z_score=None,\n",
    "               colors_ratio=0.01,\n",
    "               dendrogram_ratio=.1,\n",
    "               cbar_pos=(.02,.5,.03,.15),\n",
    "               vmin=0,\n",
    "               vmax=V_MAX,\n",
    "               yticklabels=False,\n",
    "               cmap=cmap,\n",
    "               row_cluster=True,\n",
    "               col_cluster=True,\n",
    "               figsize=(FIG_SIZE[0], FIG_SIZE[1]),\n",
    "               \n",
    "    )\n",
    "else:\n",
    "    cmap = sns.diverging_palette(150, 275, s=80, l=55) # purple/green diverging color scheme\n",
    "    heatmap = sns.clustermap(data=df,\n",
    "                z_score=0,\n",
    "                colors_ratio=0.01,\n",
    "                dendrogram_ratio=.1,\n",
    "                cbar_pos=(.02,.5,.03,.15),\n",
    "                vmin=-3,\n",
    "                vmax=3,\n",
    "                yticklabels=False,\n",
    "                cmap=cmap,\n",
    "                row_cluster=True,\n",
    "                col_cluster=True,\n",
    "                figsize=(FIG_SIZE[0], FIG_SIZE[1]),\n",
    "                \n",
    "    )\n",
    "    \n",
    "figure = plt.gcf()\n",
    "plt.savefig(OUTPUT_PATH, dpi=400)"
   ]
  },
  {
   "cell_type": "markdown",
   "metadata": {},
   "source": [
    "Written by Manan Chopra @ Wahlin Lab  \n",
    "Last updated Oct 7 2022"
   ]
  }
 ],
 "metadata": {
  "kernelspec": {
   "display_name": "Python 3.10.2 ('iRGC_env')",
   "language": "python",
   "name": "python3"
  },
  "language_info": {
   "codemirror_mode": {
    "name": "ipython",
    "version": 3
   },
   "file_extension": ".py",
   "mimetype": "text/x-python",
   "name": "python",
   "nbconvert_exporter": "python",
   "pygments_lexer": "ipython3",
   "version": "3.10.2"
  },
  "orig_nbformat": 4,
  "vscode": {
   "interpreter": {
    "hash": "f4aca7c28cd43ad96f11f30630af9fbc00e48b015dc31f56eefe016d87584e3c"
   }
  }
 },
 "nbformat": 4,
 "nbformat_minor": 2
}
