{
 "cells": [
  {
   "cell_type": "markdown",
   "metadata": {},
   "source": [
    "# Generate Heatmap of Cell Type Markers for Different Genetic Backgrounds"
   ]
  },
  {
   "cell_type": "code",
   "execution_count": null,
   "metadata": {},
   "outputs": [],
   "source": [
    "import seaborn as sns\n",
    "import matplotlib.pyplot as plt\n",
    "import pandas as pd\n",
    "import numpy as np\n",
    "\n",
    "INPUT_CSV = \"raw/genetic_backgrounds_marker_genes.csv\"\n",
    "OUTPUT_PATH = \"out/genetic_backgrounds_heatmap.pdf\"\n",
    "\n",
    "V_MAX = 2000 # Max Raw Count"
   ]
  },
  {
   "cell_type": "code",
   "execution_count": null,
   "metadata": {},
   "outputs": [],
   "source": [
    "df = pd.read_csv(INPUT_CSV)\n",
    "df.set_index('Gene', inplace=True)\n",
    "\n",
    "df = df.loc[[\n",
    "'NEUROG2',\n",
    "'ATOH7',\n",
    "'ISL1',\n",
    "'POU4F2',\n",
    "'SNAP25',\n",
    "'SYN1',\n",
    "'DLG4',\n",
    "'SYP',\n",
    "'SYT1',\n",
    "'GAP43',\n",
    "'NEFL',\n",
    "'STMN2',\n",
    "'POU4F1',\n",
    "'NEFM',\n",
    "'PRPH',\n",
    "'CEND1',\n",
    "'ELAVL3',\n",
    "'ELAVL4',\n",
    "'POU6F2',\n",
    "'INA',\n",
    "'NEFH',\n",
    "'NRN1',\n",
    "'SYT13',\n",
    "'GAPDH',\n",
    "'ACTB',\n",
    "'TBP',\n",
    "'NANOG',\n",
    "'KLF4',\n",
    "'CRX',\n",
    "'LHX4',\n",
    "'S100B',\n",
    "'PDGFRA',\n",
    "'OLIG2',\n",
    "'GFAP']]\n",
    "\n",
    "display(df)\n"
   ]
  },
  {
   "cell_type": "code",
   "execution_count": null,
   "metadata": {},
   "outputs": [],
   "source": [
    "cmap = sns.cubehelix_palette(start=.5, rot=-.75, as_cmap=True) # linear color scheme (better for raw counts)\n",
    "heatmap = sns.clustermap(data=df,\n",
    "               z_score=None,\n",
    "               colors_ratio=0.01,\n",
    "               dendrogram_ratio=.1,\n",
    "               cbar_pos=(.02,.5,.03,.15),\n",
    "               vmin=0,\n",
    "               vmax=V_MAX,\n",
    "               yticklabels=True,\n",
    "               cmap=cmap,\n",
    "               linewidths = 3.0,\n",
    "               linecolor = 'gray',\n",
    "               row_cluster=False,\n",
    "               col_cluster=False,\n",
    "               figsize=(11,27))\n",
    "\n",
    "plt.setp(heatmap.ax_heatmap.get_yticklabels(), rotation=-30)\n",
    "plt.setp(heatmap.ax_heatmap.get_xticklabels(), rotation=-90)\n",
    "\n",
    "figure = plt.gcf()\n",
    "plt.savefig(OUTPUT_PATH, dpi=400)"
   ]
  },
  {
   "cell_type": "markdown",
   "metadata": {},
   "source": [
    "Written by Manan Chopra (m1chopra@ucsd.edu) @ Wahlin Lab  \n",
    "Last Updated 5/26/2023"
   ]
  }
 ],
 "metadata": {
  "kernelspec": {
   "display_name": "Python 3 (ipykernel)",
   "language": "python",
   "name": "python3"
  },
  "language_info": {
   "codemirror_mode": {
    "name": "ipython",
    "version": 3
   },
   "file_extension": ".py",
   "mimetype": "text/x-python",
   "name": "python",
   "nbconvert_exporter": "python",
   "pygments_lexer": "ipython3",
   "version": "3.10.11"
  },
  "vscode": {
   "interpreter": {
    "hash": "b7e64a08055d170261e80b98d3f57367aa6de11674625099fc1e6fea895217d7"
   }
  }
 },
 "nbformat": 4,
 "nbformat_minor": 2
}
