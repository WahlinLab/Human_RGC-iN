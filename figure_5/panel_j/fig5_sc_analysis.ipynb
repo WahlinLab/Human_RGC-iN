{
 "cells": [
  {
   "cell_type": "markdown",
   "id": "d2520635",
   "metadata": {},
   "source": [
    "# Single Cell Analysis of D7, D14 and D21 RGC-iNs"
   ]
  },
  {
   "cell_type": "code",
   "execution_count": null,
   "id": "2e7cdf04",
   "metadata": {},
   "outputs": [],
   "source": [
    "import scanpy as sc\n",
    "import pandas as pd\n",
    "\n",
    "sc.settings.verbosity = 3 # hints "
   ]
  },
  {
   "cell_type": "markdown",
   "id": "9feb3148",
   "metadata": {},
   "source": [
    "### Data collection"
   ]
  },
  {
   "cell_type": "code",
   "execution_count": null,
   "id": "92dcee1a",
   "metadata": {},
   "outputs": [],
   "source": [
    "### Read data into an AnnData objects (this step may take a few minutes the first time) ###\n",
    "\n",
    "adata_7 = sc.read_10x_mtx(\n",
    "    f'./../../sc_data/d7/',\n",
    "    var_names='gene_symbols',\n",
    "    cache=True\n",
    ")\n",
    "\n",
    "adata_14 = sc.read_10x_mtx(\n",
    "    f'./../../sc_data/d14/',\n",
    "    var_names='gene_symbols',\n",
    "    cache=True\n",
    ")\n",
    "\n",
    "adata_21 = sc.read_10x_mtx(\n",
    "    f'./../../sc_data/d21/',\n",
    "    var_names='gene_symbols',\n",
    "    cache=True\n",
    ")\n",
    "\n",
    "data = [adata_7, adata_14, adata_21]\n",
    "\n",
    "for adata in data:\n",
    "    adata.var_names_make_unique()\n",
    "    display(adata)"
   ]
  },
  {
   "cell_type": "code",
   "execution_count": null,
   "id": "c05b10a4",
   "metadata": {},
   "outputs": [],
   "source": [
    "# Add 'sample' column in order to later distinguish cells from different timepoints\n",
    "adata_7.obs['sample'] = 'd7'\n",
    "adata_14.obs['sample'] = 'd14'\n",
    "adata_21.obs['sample'] = 'd21'\n",
    "\n",
    "# Concatenate into one AnnData\n",
    "adata = adata_7.concatenate(adata_14, adata_21)\n",
    "display(adata)"
   ]
  },
  {
   "cell_type": "markdown",
   "id": "686fb560",
   "metadata": {},
   "source": [
    "### Preprocessing"
   ]
  },
  {
   "cell_type": "code",
   "execution_count": null,
   "id": "c0544d38",
   "metadata": {},
   "outputs": [],
   "source": [
    "sc.pp.filter_cells(adata, min_genes=200)\n",
    "sc.pp.filter_genes(adata, min_cells=3)\n",
    "\n",
    "# annotate the group of mitochondrial genes as 'mt' for later removal\n",
    "adata.var['mt'] = adata.var_names.str.startswith('MT-')\n",
    "\n",
    "# generate plots to assess cell/transcript quality\n",
    "sc.pp.calculate_qc_metrics(adata, qc_vars=['mt'], percent_top=None, log1p=False, inplace=True)\n",
    "sc.pl.violin(adata, ['n_genes_by_counts', 'total_counts', 'pct_counts_mt'],\n",
    "             jitter=0.4, multi_panel=True)\n",
    "sc.pl.scatter(adata, x='total_counts', y='pct_counts_mt')\n",
    "sc.pl.scatter(adata, x='total_counts', y='n_genes_by_counts')"
   ]
  },
  {
   "cell_type": "code",
   "execution_count": null,
   "id": "7b24f587",
   "metadata": {},
   "outputs": [],
   "source": [
    "# filter out cells with an abnormal number of total_counts and those with high mitochondrial gene presence\n",
    "adata = adata[adata.obs.total_counts < 200000, :]\n",
    "adata = adata[adata.obs.pct_counts_mt < 5, :]\n",
    "\n",
    "# normalize and logarthmize data\n",
    "sc.pp.normalize_total(adata, target_sum=1e4)\n",
    "sc.pp.log1p(adata)\n",
    "\n",
    "display(adata)"
   ]
  },
  {
   "cell_type": "markdown",
   "id": "4c9b1b49",
   "metadata": {},
   "source": [
    "### Clustering and Dimensionality Reduction"
   ]
  },
  {
   "cell_type": "code",
   "execution_count": null,
   "id": "5a1e05ab",
   "metadata": {},
   "outputs": [],
   "source": [
    "# compute principle components using scanpy and visualize PC1/PC2 and the variance ratios\n",
    "sc.tl.pca(adata, svd_solver='arpack', use_highly_variable=False)\n",
    "sc.pl.pca(adata)\n",
    "sc.pl.pca_variance_ratio(adata, log=True)"
   ]
  },
  {
   "cell_type": "code",
   "execution_count": null,
   "id": "853633ec",
   "metadata": {},
   "outputs": [],
   "source": [
    "# neighborhood generation, louvain clustering, and UMAP dimensionality reduction\n",
    "sc.pp.neighbors(adata)\n",
    "sc.tl.louvain(adata)\n",
    "sc.tl.umap(adata, n_components=3)"
   ]
  },
  {
   "cell_type": "markdown",
   "id": "dfff2400",
   "metadata": {},
   "source": [
    "### UMAP Visualization"
   ]
  },
  {
   "cell_type": "code",
   "execution_count": null,
   "id": "26b9065e",
   "metadata": {},
   "outputs": [],
   "source": [
    "# plot UMAPs colored for Louvain clusters and for timepoint\n",
    "sc.pl.umap(adata, color=['louvain'], legend_loc='on data', save='_all_timepoints_louvain.pdf')\n",
    "sc.pl.umap(adata, color=['sample'], palette='Set3', legend_loc='on data', save='_all_timepoints.pdf')"
   ]
  },
  {
   "cell_type": "code",
   "execution_count": null,
   "id": "136a3e24",
   "metadata": {},
   "outputs": [],
   "source": [
    "# generate UMAPs colored for expression of various pan-neuronal and RGC marker genes\n",
    "sc.pl.umap(adata, color=['SNCG'], frameon=False, save='_all_timepoints_sncg.pdf', vmax=1, cmap='Blues')\n",
    "sc.pl.umap(adata, color=['STMN2'], frameon=False, save='_all_timepoints_stmn2.pdf', vmax=1, cmap='Blues')\n",
    "sc.pl.umap(adata, color=['GAP43'], frameon=False, save='_all_timepoints_gap43.pdf', vmax=1, cmap='Blues')\n",
    "sc.pl.umap(adata, color=['TUBB3'], frameon=False, save='_all_timepoints_tubb3.pdf', vmax=1, cmap='Blues')\n",
    "sc.pl.umap(adata, color=['MAP2'], frameon=False, save='_all_timepoints_map2.pdf', vmax=1, cmap='Blues')\n",
    "sc.pl.umap(adata, color=['SYT1'], frameon=False, save='_all_timepoints_syt1.pdf', vmax=1, cmap='Blues')"
   ]
  },
  {
   "cell_type": "markdown",
   "id": "ea133825",
   "metadata": {},
   "source": [
    "### RGC Subtype Analysis"
   ]
  },
  {
   "cell_type": "code",
   "execution_count": null,
   "id": "b9551d16",
   "metadata": {},
   "outputs": [],
   "source": [
    "# create dotplot for analysis of cluster-by-cluster RGC subtype marker expression\n",
    "subtypes = {\n",
    "    'alpha-RGCs':['CALB2','GAL','SPP1', 'MMP17','TRH', 'CRH', 'COL25A1', 'KCNG4'],\n",
    "    'DS-RGCs':['DCX', 'CARTPT', 'CDH6', 'DRD4', 'JAM2', 'FSTL4'],\n",
    "    'ipRGCs':'OPN4'\n",
    "}\n",
    "sc.pl.dotplot(\n",
    "    adata, subtypes, groupby='louvain',\n",
    "    vmax=1, mean_only_expressed=True, dot_max=0.5,\n",
    "    categories_order=['4', '11', '1', '7', '3', '0', '9', '10', '6', '12', '8', '16', '13', '15', '5', '2', '14'],\n",
    "    title='RGC Subtype Markers',\n",
    "    swap_axes=True,\n",
    "    figsize=[9, 4.0],\n",
    "    save='_all_timepoints_rgcsubtypes.pdf'\n",
    ")"
   ]
  },
  {
   "cell_type": "markdown",
   "id": "6851e437",
   "metadata": {},
   "source": [
    "### Cell Type Analysis"
   ]
  },
  {
   "cell_type": "code",
   "execution_count": null,
   "id": "c3956825",
   "metadata": {},
   "outputs": [],
   "source": [
    "# create dotplot for analysis of cluster-by-cluster cell type marker gene expression\n",
    "subtypes = {\n",
    "    'HKG':['GAPDH', 'ACTB'],\n",
    "    'Pluri.':['NANOG', 'DNMT3B'],\n",
    "    'Neuro':['TUBB3', 'SYT1', 'MAP2', 'DLG4', 'SYP'],\n",
    "    'RGC':['DCX', 'NEFL', 'INA', 'STMN2', 'SNCG', 'GAP43'],\n",
    "    'Photoreceptor':['CRX', 'ARR3', 'RHO', 'NRL', 'LHX4'],\n",
    "    'Glial':['S100B', 'PDGFRA', 'OLIG2', 'OLIG3', 'GFAP', 'RLBP1'],\n",
    "    'Amacrine':['GAD1', 'PAX6', 'TFAP2A'],\n",
    "    'Bipolar':['NETO1', 'VSX2', 'OTX2'],\n",
    "    'Horizontal':['LHX1', 'CALB1', 'PTF1A']\n",
    "}\n",
    "sc.pl.dotplot(adata, subtypes, groupby='louvain',\n",
    "                vmax=1, mean_only_expressed=True, dot_max=1,\n",
    "                categories_order=['4', '11', '1', '7', '3', '0', '9', '10', '6', '12', '8', '16', '13', '15', '5', '2', '14'],\n",
    "                title='Cell Type Markers',\n",
    "                var_group_rotation=0,\n",
    "                save='d7-21_celltype_dotplot.pdf'\n",
    ")"
   ]
  },
  {
   "cell_type": "markdown",
   "id": "c823677a",
   "metadata": {},
   "source": [
    "Written by Manan Chopra (m1chopra@ucsd.edu) @ Wahlin Lab  \n",
    "Last updated on May 15, 2023"
   ]
  }
 ],
 "metadata": {
  "kernelspec": {
   "display_name": "Python 3 (ipykernel)",
   "language": "python",
   "name": "python3"
  },
  "language_info": {
   "codemirror_mode": {
    "name": "ipython",
    "version": 3
   },
   "file_extension": ".py",
   "mimetype": "text/x-python",
   "name": "python",
   "nbconvert_exporter": "python",
   "pygments_lexer": "ipython3",
   "version": "3.10.11"
  }
 },
 "nbformat": 4,
 "nbformat_minor": 5
}
