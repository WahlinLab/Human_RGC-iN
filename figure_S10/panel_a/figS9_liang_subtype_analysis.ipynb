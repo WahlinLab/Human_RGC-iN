{
 "cells": [
  {
   "cell_type": "markdown",
   "id": "361376a6",
   "metadata": {},
   "source": [
    "# Single Cell RGC Subtype Marker Expression Analysis in Liang et. al. 2023"
   ]
  },
  {
   "cell_type": "code",
   "execution_count": null,
   "id": "1c10f207",
   "metadata": {},
   "outputs": [],
   "source": [
    "import scanpy as sc\n",
    "import anndata as ad\n",
    "\n",
    "sc.settings.verbosity = 3"
   ]
  },
  {
   "cell_type": "markdown",
   "id": "b4d8f22c",
   "metadata": {},
   "source": [
    "### Data Collection"
   ]
  },
  {
   "cell_type": "code",
   "execution_count": null,
   "id": "92dcee1a",
   "metadata": {},
   "outputs": [],
   "source": [
    "### Read .h5ad data into an AnnData object\n",
    "\n",
    "# RGC subset obtained from\n",
    "# https://cellxgene.cziscience.com/collections/af893e86-8e9f-41f1-a474-ef05359b1fb7\n",
    "adata = ad.read_h5ad('./../../sc_data/liang_adult_rgcs/local.h5ad')\n",
    "\n",
    "adata.var_names_make_unique()\n",
    "display(adata)"
   ]
  },
  {
   "cell_type": "markdown",
   "id": "f0ef988d",
   "metadata": {},
   "source": [
    "### Clustering and Plotting UMAP Projection"
   ]
  },
  {
   "cell_type": "code",
   "execution_count": null,
   "id": "ff94e41a",
   "metadata": {},
   "outputs": [],
   "source": [
    "sc.pp.neighbors(adata)\n",
    "sc.tl.louvain(adata, resolution=0.2)\n",
    "sc.pl.umap(adata, color='louvain', legend_loc='on data', save='_liang_louvain.pdf')"
   ]
  },
  {
   "cell_type": "markdown",
   "id": "dd681806",
   "metadata": {},
   "source": [
    "### Subtype Analysis"
   ]
  },
  {
   "cell_type": "code",
   "execution_count": null,
   "id": "da787e2f",
   "metadata": {},
   "outputs": [],
   "source": [
    "# Assign alpha, ds, and ip RGC subtype markers \n",
    "subtypes = {\n",
    "    'alpha':[\n",
    "        'ENSG00000118785',\n",
    "        'ENSG00000165282',\n",
    "        'ENSG00000163684',\n",
    "        'ENSG00000152782',\n",
    "        'ENSG00000172137',\n",
    "        'ENSG00000069482',\n",
    "        'ENSG00000147571'\n",
    "    ],\n",
    "    'ds':[\n",
    "        'ENSG00000077279',\n",
    "        'ENSG00000113361',\n",
    "        'ENSG00000154721',\n",
    "        'ENSG00000053108',\n",
    "        'ENSG00000148180',\n",
    "        'ENSG00000108231',\n",
    "        'ENSG00000198598',\n",
    "        'ENSG00000188517'\n",
    "    ],\n",
    "    'ip':[\n",
    "        'ENSG00000122375'\n",
    "    ]\n",
    "}\n",
    "\n",
    "# Plot cluster-by-cluster expression of the subtype markers\n",
    "sc.pl.dotplot(\n",
    "    adata, subtypes, groupby='louvain',\n",
    "    vmax=3, mean_only_expressed=True, dot_max=0.4,\n",
    "    title='Liang RGC Subtype Markers',\n",
    "    swap_axes=True,\n",
    "    dendrogram=False,\n",
    "    save='_liang_rgcsubtype.pdf'\n",
    ")"
   ]
  },
  {
   "cell_type": "markdown",
   "id": "14932e52",
   "metadata": {},
   "source": [
    "Written by Manan Chopra (m1chopra@ucsd.edu) @ Wahlin Lab  \n",
    "Last updated 5/26/2023"
   ]
  }
 ],
 "metadata": {
  "kernelspec": {
   "display_name": "Python 3 (ipykernel)",
   "language": "python",
   "name": "python3"
  },
  "language_info": {
   "codemirror_mode": {
    "name": "ipython",
    "version": 3
   },
   "file_extension": ".py",
   "mimetype": "text/x-python",
   "name": "python",
   "nbconvert_exporter": "python",
   "pygments_lexer": "ipython3",
   "version": "3.10.11"
  }
 },
 "nbformat": 4,
 "nbformat_minor": 5
}
